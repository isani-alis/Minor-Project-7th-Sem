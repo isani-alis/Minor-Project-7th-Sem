{
 "cells": [
  {
   "cell_type": "code",
   "execution_count": 4,
   "id": "1e147066-c82f-4dad-aaba-1d88238608ee",
   "metadata": {},
   "outputs": [
    {
     "name": "stdout",
     "output_type": "stream",
     "text": [
      "Using device: cuda\n"
     ]
    }
   ],
   "source": [
    "import os\n",
    "import cv2\n",
    "import torch\n",
    "import torch.nn as nn\n",
    "import torchvision.transforms as T\n",
    "import torchvision.models as models\n",
    "import numpy as np\n",
    "from PIL import Image\n",
    "\n",
    "# -------------------------------\n",
    "# 1. Load Pretrained Model (BN-Inception substitute = InceptionV3)\n",
    "# -------------------------------\n",
    "device = torch.device(\"cuda\" if torch.cuda.is_available() else \"cpu\")\n",
    "print(\"Using device:\", device)\n",
    "\n",
    "weights = models.Inception_V3_Weights.DEFAULT\n",
    "model = models.inception_v3(weights=weights, aux_logits=True)\n",
    "model.fc = nn.Identity()  # remove final classification layer -> 2048-d features\n",
    "model = model.to(device).eval()\n",
    "\n"
   ]
  },
  {
   "cell_type": "code",
   "execution_count": 5,
   "id": "5b9261b9-d752-43a1-b7e6-a24662fecf47",
   "metadata": {},
   "outputs": [],
   "source": [
    "\n",
    "# -------------------------------\n",
    "# 2. Transformations\n",
    "# -------------------------------\n",
    "transform = T.Compose([\n",
    "    T.Resize((256, 456)),  # (H=256, W=456)\n",
    "    T.ToTensor(),\n",
    "    T.Normalize(mean=[0.485, 0.456, 0.406],\n",
    "                std=[0.229, 0.224, 0.225])\n",
    "])\n",
    "\n",
    "# -------------------------------\n",
    "# 3. Extract RGB Features for a Video\n"
   ]
  },
  {
   "cell_type": "code",
   "execution_count": 8,
   "id": "8b545c3c-a5b0-4927-9135-e844b99f79f1",
   "metadata": {},
   "outputs": [
    {
     "name": "stdout",
     "output_type": "stream",
     "text": [
      "Saved (15249, 2048) features to P01_05_rgb.npy\n",
      "RGB Features shape: (15249, 2048)\n"
     ]
    }
   ],
   "source": [
    "# -------------------------------\n",
    "def extract_rgb_features(video_path, sample_rate=5, save_path=None):\n",
    "    cap = cv2.VideoCapture(video_path)\n",
    "    features_list = []\n",
    "    frame_count = 0\n",
    "\n",
    "    while cap.isOpened():\n",
    "        ret, frame = cap.read()\n",
    "        if not ret:\n",
    "            break\n",
    "\n",
    "        # sample every Nth frame\n",
    "        if frame_count % sample_rate == 0:\n",
    "            # Convert from OpenCV BGR → RGB → PIL\n",
    "            frame_rgb = cv2.cvtColor(frame, cv2.COLOR_BGR2RGB)\n",
    "            img_pil = Image.fromarray(frame_rgb)\n",
    "\n",
    "            # Apply transforms\n",
    "            img = transform(img_pil).unsqueeze(0).to(device)  # (1,3,H,W)\n",
    "\n",
    "            with torch.no_grad():\n",
    "                feat = model(img)  # shape (1, 2048)\n",
    "            feat = feat.squeeze().cpu().numpy()\n",
    "\n",
    "            features_list.append(feat)\n",
    "\n",
    "        frame_count += 1\n",
    "\n",
    "    cap.release()\n",
    "\n",
    "    features = np.array(features_list)  # (num_samples, 2048)\n",
    "    if save_path:\n",
    "        np.save(save_path, features)\n",
    "        print(f\"Saved {features.shape} features to {save_path}\")\n",
    "\n",
    "    return features\n",
    "\n",
    "# -------------------------------\n",
    "# 4. Example Usage\n",
    "# -------------------------------\n",
    "features = extract_rgb_features(\n",
    "    r\"C:\\Users\\Alis\\Desktop\\Video\\P01_05.MP4\",\n",
    "    sample_rate=5,\n",
    "    save_path=\"P01_05_rgb.npy\"\n",
    ")\n",
    "\n",
    "print(\"RGB Features shape:\", features.shape)"
   ]
  },
  {
   "cell_type": "code",
   "execution_count": 4,
   "id": "759c7680-3239-443b-ae7d-ccf4964582bd",
   "metadata": {},
   "outputs": [],
   "source": [
    "import torch\n",
    "from torch.hub import load_state_dict_from_url\n",
    "import requests\n",
    "from io import BytesIO\n"
   ]
  },
  {
   "cell_type": "code",
   "execution_count": 5,
   "id": "475f17ce-01d0-4384-97d8-3e6a626ed0e6",
   "metadata": {},
   "outputs": [],
   "source": [
    "def load_weights_with_requests(url, map_location=\"cpu\"):\n",
    "    r = requests.get(url)\n",
    "    r.raise_for_status()\n",
    "    state_dict = torch.load(BytesIO(r.content), map_location=map_location)\n",
    "    return state_dict"
   ]
  },
  {
   "cell_type": "code",
   "execution_count": null,
   "id": "0d948d7e-329c-4a6c-8e65-9a47a1c1ba6a",
   "metadata": {},
   "outputs": [],
   "source": []
  }
 ],
 "metadata": {
  "kernelspec": {
   "display_name": "Python 3 (ipykernel)",
   "language": "python",
   "name": "python3"
  },
  "language_info": {
   "codemirror_mode": {
    "name": "ipython",
    "version": 3
   },
   "file_extension": ".py",
   "mimetype": "text/x-python",
   "name": "python",
   "nbconvert_exporter": "python",
   "pygments_lexer": "ipython3",
   "version": "3.10.18"
  }
 },
 "nbformat": 4,
 "nbformat_minor": 5
}
